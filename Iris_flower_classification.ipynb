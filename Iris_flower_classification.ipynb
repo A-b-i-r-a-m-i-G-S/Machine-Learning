{
  "cells": [
    {
      "cell_type": "code",
      "execution_count": 19,
      "metadata": {
        "id": "nfBDIIvj3xsu"
      },
      "outputs": [],
      "source": [
        "import numpy as np\n",
        "import pandas as pd\n",
        "import matplotlib.pyplot as plt\n",
        "from sklearn import metrics"
      ]
    },
    {
      "cell_type": "markdown",
      "metadata": {
        "id": "PXI8FSoi4CEp"
      },
      "source": [
        "# Dataset:\n",
        "Creator:R.A. Fisher \\\n",
        "Donor:Michael Marshall (MARSHALL%PLU '@' io.arc.nasa.gov)"
      ]
    },
    {
      "cell_type": "code",
      "execution_count": 20,
      "metadata": {
        "colab": {
          "base_uri": "https://localhost:8080/",
          "height": 206
        },
        "id": "LG8YdUce4iBH",
        "outputId": "1818a7a1-1d8a-42b0-d7b9-cfa4830b6580"
      },
      "outputs": [
        {
          "output_type": "execute_result",
          "data": {
            "text/plain": [
              "   sepal length  sepal width  petal length  petal width        class\n",
              "0           5.1          3.5           1.4          0.2  Iris-setosa\n",
              "1           4.9          3.0           1.4          0.2  Iris-setosa\n",
              "2           4.7          3.2           1.3          0.2  Iris-setosa\n",
              "3           4.6          3.1           1.5          0.2  Iris-setosa\n",
              "4           5.0          3.6           1.4          0.2  Iris-setosa"
            ],
            "text/html": [
              "\n",
              "  <div id=\"df-24350393-57d5-4088-95ee-d5d78b0d276d\">\n",
              "    <div class=\"colab-df-container\">\n",
              "      <div>\n",
              "<style scoped>\n",
              "    .dataframe tbody tr th:only-of-type {\n",
              "        vertical-align: middle;\n",
              "    }\n",
              "\n",
              "    .dataframe tbody tr th {\n",
              "        vertical-align: top;\n",
              "    }\n",
              "\n",
              "    .dataframe thead th {\n",
              "        text-align: right;\n",
              "    }\n",
              "</style>\n",
              "<table border=\"1\" class=\"dataframe\">\n",
              "  <thead>\n",
              "    <tr style=\"text-align: right;\">\n",
              "      <th></th>\n",
              "      <th>sepal length</th>\n",
              "      <th>sepal width</th>\n",
              "      <th>petal length</th>\n",
              "      <th>petal width</th>\n",
              "      <th>class</th>\n",
              "    </tr>\n",
              "  </thead>\n",
              "  <tbody>\n",
              "    <tr>\n",
              "      <th>0</th>\n",
              "      <td>5.1</td>\n",
              "      <td>3.5</td>\n",
              "      <td>1.4</td>\n",
              "      <td>0.2</td>\n",
              "      <td>Iris-setosa</td>\n",
              "    </tr>\n",
              "    <tr>\n",
              "      <th>1</th>\n",
              "      <td>4.9</td>\n",
              "      <td>3.0</td>\n",
              "      <td>1.4</td>\n",
              "      <td>0.2</td>\n",
              "      <td>Iris-setosa</td>\n",
              "    </tr>\n",
              "    <tr>\n",
              "      <th>2</th>\n",
              "      <td>4.7</td>\n",
              "      <td>3.2</td>\n",
              "      <td>1.3</td>\n",
              "      <td>0.2</td>\n",
              "      <td>Iris-setosa</td>\n",
              "    </tr>\n",
              "    <tr>\n",
              "      <th>3</th>\n",
              "      <td>4.6</td>\n",
              "      <td>3.1</td>\n",
              "      <td>1.5</td>\n",
              "      <td>0.2</td>\n",
              "      <td>Iris-setosa</td>\n",
              "    </tr>\n",
              "    <tr>\n",
              "      <th>4</th>\n",
              "      <td>5.0</td>\n",
              "      <td>3.6</td>\n",
              "      <td>1.4</td>\n",
              "      <td>0.2</td>\n",
              "      <td>Iris-setosa</td>\n",
              "    </tr>\n",
              "  </tbody>\n",
              "</table>\n",
              "</div>\n",
              "      <button class=\"colab-df-convert\" onclick=\"convertToInteractive('df-24350393-57d5-4088-95ee-d5d78b0d276d')\"\n",
              "              title=\"Convert this dataframe to an interactive table.\"\n",
              "              style=\"display:none;\">\n",
              "        \n",
              "  <svg xmlns=\"http://www.w3.org/2000/svg\" height=\"24px\"viewBox=\"0 0 24 24\"\n",
              "       width=\"24px\">\n",
              "    <path d=\"M0 0h24v24H0V0z\" fill=\"none\"/>\n",
              "    <path d=\"M18.56 5.44l.94 2.06.94-2.06 2.06-.94-2.06-.94-.94-2.06-.94 2.06-2.06.94zm-11 1L8.5 8.5l.94-2.06 2.06-.94-2.06-.94L8.5 2.5l-.94 2.06-2.06.94zm10 10l.94 2.06.94-2.06 2.06-.94-2.06-.94-.94-2.06-.94 2.06-2.06.94z\"/><path d=\"M17.41 7.96l-1.37-1.37c-.4-.4-.92-.59-1.43-.59-.52 0-1.04.2-1.43.59L10.3 9.45l-7.72 7.72c-.78.78-.78 2.05 0 2.83L4 21.41c.39.39.9.59 1.41.59.51 0 1.02-.2 1.41-.59l7.78-7.78 2.81-2.81c.8-.78.8-2.07 0-2.86zM5.41 20L4 18.59l7.72-7.72 1.47 1.35L5.41 20z\"/>\n",
              "  </svg>\n",
              "      </button>\n",
              "      \n",
              "  <style>\n",
              "    .colab-df-container {\n",
              "      display:flex;\n",
              "      flex-wrap:wrap;\n",
              "      gap: 12px;\n",
              "    }\n",
              "\n",
              "    .colab-df-convert {\n",
              "      background-color: #E8F0FE;\n",
              "      border: none;\n",
              "      border-radius: 50%;\n",
              "      cursor: pointer;\n",
              "      display: none;\n",
              "      fill: #1967D2;\n",
              "      height: 32px;\n",
              "      padding: 0 0 0 0;\n",
              "      width: 32px;\n",
              "    }\n",
              "\n",
              "    .colab-df-convert:hover {\n",
              "      background-color: #E2EBFA;\n",
              "      box-shadow: 0px 1px 2px rgba(60, 64, 67, 0.3), 0px 1px 3px 1px rgba(60, 64, 67, 0.15);\n",
              "      fill: #174EA6;\n",
              "    }\n",
              "\n",
              "    [theme=dark] .colab-df-convert {\n",
              "      background-color: #3B4455;\n",
              "      fill: #D2E3FC;\n",
              "    }\n",
              "\n",
              "    [theme=dark] .colab-df-convert:hover {\n",
              "      background-color: #434B5C;\n",
              "      box-shadow: 0px 1px 3px 1px rgba(0, 0, 0, 0.15);\n",
              "      filter: drop-shadow(0px 1px 2px rgba(0, 0, 0, 0.3));\n",
              "      fill: #FFFFFF;\n",
              "    }\n",
              "  </style>\n",
              "\n",
              "      <script>\n",
              "        const buttonEl =\n",
              "          document.querySelector('#df-24350393-57d5-4088-95ee-d5d78b0d276d button.colab-df-convert');\n",
              "        buttonEl.style.display =\n",
              "          google.colab.kernel.accessAllowed ? 'block' : 'none';\n",
              "\n",
              "        async function convertToInteractive(key) {\n",
              "          const element = document.querySelector('#df-24350393-57d5-4088-95ee-d5d78b0d276d');\n",
              "          const dataTable =\n",
              "            await google.colab.kernel.invokeFunction('convertToInteractive',\n",
              "                                                     [key], {});\n",
              "          if (!dataTable) return;\n",
              "\n",
              "          const docLinkHtml = 'Like what you see? Visit the ' +\n",
              "            '<a target=\"_blank\" href=https://colab.research.google.com/notebooks/data_table.ipynb>data table notebook</a>'\n",
              "            + ' to learn more about interactive tables.';\n",
              "          element.innerHTML = '';\n",
              "          dataTable['output_type'] = 'display_data';\n",
              "          await google.colab.output.renderOutput(dataTable, element);\n",
              "          const docLink = document.createElement('div');\n",
              "          docLink.innerHTML = docLinkHtml;\n",
              "          element.appendChild(docLink);\n",
              "        }\n",
              "      </script>\n",
              "    </div>\n",
              "  </div>\n",
              "  "
            ]
          },
          "metadata": {},
          "execution_count": 20
        }
      ],
      "source": [
        "cols = [\"sepal length\",\"sepal width\",\"petal length\", \"petal width\",\"class\"]\n",
        "df = pd.read_csv(\"iris.data\",names = cols)\n",
        "df.head()"
      ]
    },
    {
      "cell_type": "code",
      "execution_count": 21,
      "metadata": {
        "colab": {
          "base_uri": "https://localhost:8080/"
        },
        "id": "d4GecLAu5vdK",
        "outputId": "45e86fa3-397d-45e0-ddc8-12da28b8600d"
      },
      "outputs": [
        {
          "output_type": "execute_result",
          "data": {
            "text/plain": [
              "array(['Iris-setosa', 'Iris-versicolor', 'Iris-virginica'], dtype=object)"
            ]
          },
          "metadata": {},
          "execution_count": 21
        }
      ],
      "source": [
        "df[\"class\"].unique()"
      ]
    },
    {
      "cell_type": "code",
      "execution_count": 22,
      "metadata": {
        "colab": {
          "base_uri": "https://localhost:8080/",
          "height": 1000
        },
        "id": "PdAufVKsO6jG",
        "outputId": "bdd218fa-d694-4f9b-a39c-ffdf524fce7a"
      },
      "outputs": [
        {
          "output_type": "display_data",
          "data": {
            "text/plain": [
              "<Figure size 640x480 with 1 Axes>"
            ],
            "image/png": "[encoded data removed]"
          },
          "metadata": {}
        },
        {
          "output_type": "display_data",
          "data": {
            "text/plain": [
              "<Figure size 640x480 with 1 Axes>"
            ],
            "image/png": "[encoded data removed]"
          },
          "metadata": {}
        },
        {
          "output_type": "display_data",
          "data": {
            "text/plain": [
              "<Figure size 640x480 with 1 Axes>"
            ],
            "image/png": "[encoded data removed]"
          },
          "metadata": {}
        },
        {
          "output_type": "display_data",
          "data": {
            "text/plain": [
              "<Figure size 640x480 with 1 Axes>"
            ],
            "image/png": "[encoded data removed]"
          },
          "metadata": {}
        }
      ],
      "source": [
        "for label in cols[:-1]:\n",
        "  plt.hist(df[df[\"class\"]==\"Iris-setosa\"][label], color='red',label='Iris-setosa', alpha=0.7,density=True)\n",
        "  plt.hist(df[df[\"class\"]==\"Iris-versicolor\"][label], color='green',label='Iris-versicolor', alpha=0.7,density=True)\n",
        "  plt.hist(df[df[\"class\"]==\"Iris-virginica\"][label], color='yellow',label='Iris-virginica', alpha=0.5,density=True)\n",
        "  plt.title(label)\n",
        "  plt.xlabel(label)\n",
        "  plt.ylabel(\"probability\")\n",
        "  plt.legend()\n",
        "  plt.show()"
      ]
    },
    {
      "cell_type": "markdown",
      "metadata": {
        "id": "aKHiD-y-QnEg"
      },
      "source": [
        "#Training, Validation and Testing data sets"
      ]
    },
    {
      "cell_type": "code",
      "execution_count": 23,
      "metadata": {
        "id": "DIFXSHUjQkVs"
      },
      "outputs": [],
      "source": [
        "train,test = np.split(df.sample(frac=1),[int(0.8*len(df))])\n",
        "#sample() is used to take a random sample of the data\n",
        "#frac=1 takes the entire fraction of the data\n",
        "#split is used to split the data as 80 20"
      ]
    },
    {
      "cell_type": "markdown",
      "metadata": {
        "id": "z0SPha_UZoj4"
      },
      "source": [
        "# Implementing different ML algorithms"
      ]
    },
    {
      "cell_type": "code",
      "execution_count": 24,
      "metadata": {
        "colab": {
          "base_uri": "https://localhost:8080/"
        },
        "id": "qbfla5Nhaqma",
        "outputId": "eef61604-1bf9-439d-9eca-0bdcfc483318"
      },
      "outputs": [
        {
          "output_type": "stream",
          "name": "stdout",
          "text": [
            "     sepal length  sepal width  petal length  petal width\n",
            "146           6.3          2.5           5.0          1.9\n",
            "103           6.3          2.9           5.6          1.8\n",
            "132           6.4          2.8           5.6          2.2\n",
            "63            6.1          2.9           4.7          1.4\n",
            "89            5.5          2.5           4.0          1.3\n",
            "146     Iris-virginica\n",
            "103     Iris-virginica\n",
            "132     Iris-virginica\n",
            "63     Iris-versicolor\n",
            "89     Iris-versicolor\n",
            "Name: class, dtype: object\n"
          ]
        }
      ],
      "source": [
        "train_x = train[cols[:-1]]\n",
        "print(train_x.head())\n",
        "train_y = train[cols[-1]]\n",
        "print(train_y.head())"
      ]
    },
    {
      "cell_type": "code",
      "execution_count": 25,
      "metadata": {
        "colab": {
          "base_uri": "https://localhost:8080/"
        },
        "id": "JssiHQtbbCfD",
        "outputId": "548449dd-f0ca-4896-f649-cd85080f7d4e"
      },
      "outputs": [
        {
          "output_type": "stream",
          "name": "stdout",
          "text": [
            "     sepal length  sepal width  petal length  petal width\n",
            "64            5.6          2.9           3.6          1.3\n",
            "106           4.9          2.5           4.5          1.7\n",
            "83            6.0          2.7           5.1          1.6\n",
            "2             4.7          3.2           1.3          0.2\n",
            "100           6.3          3.3           6.0          2.5\n",
            "64     Iris-versicolor\n",
            "106     Iris-virginica\n",
            "83     Iris-versicolor\n",
            "2          Iris-setosa\n",
            "100     Iris-virginica\n",
            "Name: class, dtype: object\n"
          ]
        }
      ],
      "source": [
        "test_x = test[cols[:-1]]\n",
        "print(test_x.head())\n",
        "test_y = test[cols[-1]]\n",
        "print(test_y.head())"
      ]
    },
    {
      "cell_type": "markdown",
      "metadata": {
        "id": "QVyt5VC7aNPA"
      },
      "source": [
        "## Logistic Regression\n"
      ]
    },
    {
      "cell_type": "code",
      "execution_count": 26,
      "metadata": {
        "id": "wgV_0D1padHi"
      },
      "outputs": [],
      "source": [
        "from sklearn.linear_model import LogisticRegression"
      ]
    },
    {
      "cell_type": "code",
      "execution_count": 27,
      "metadata": {
        "colab": {
          "base_uri": "https://localhost:8080/"
        },
        "id": "SOaUQTfZbMtO",
        "outputId": "aafabbf7-9d74-4669-8824-12fc846d2182"
      },
      "outputs": [
        {
          "output_type": "stream",
          "name": "stdout",
          "text": [
            "Accuracy of Logistic Regression model:  0.9\n"
          ]
        }
      ],
      "source": [
        "LR_model = LogisticRegression(max_iter=150)\n",
        "LR_model.fit(train_x,train_y)\n",
        "prediction = LR_model.predict(test_x)\n",
        "print(\"Accuracy of Logistic Regression model: \", metrics.accuracy_score(prediction,test_y))"
      ]
    },
    {
      "cell_type": "code",
      "execution_count": 28,
      "metadata": {
        "id": "4IXcUqCIaoIv"
      },
      "outputs": [],
      "source": [
        "from sklearn.metrics import confusion_matrix, classification_report"
      ]
    },
    {
      "cell_type": "code",
      "execution_count": 29,
      "metadata": {
        "colab": {
          "base_uri": "https://localhost:8080/"
        },
        "id": "LP67c6nvazAj",
        "outputId": "8a2f8c0a-11d9-4bd4-c2c4-b2325bd0481c"
      },
      "outputs": [
        {
          "output_type": "stream",
          "name": "stdout",
          "text": [
            "Confusion matrix:\n",
            " [[10  0  0]\n",
            " [ 0 11  2]\n",
            " [ 0  1  6]]\n",
            "                 precision    recall  f1-score   support\n",
            "\n",
            "    Iris-setosa       1.00      1.00      1.00        10\n",
            "Iris-versicolor       0.92      0.85      0.88        13\n",
            " Iris-virginica       0.75      0.86      0.80         7\n",
            "\n",
            "       accuracy                           0.90        30\n",
            "      macro avg       0.89      0.90      0.89        30\n",
            "   weighted avg       0.91      0.90      0.90        30\n",
            "\n"
          ]
        }
      ],
      "source": [
        "conf_matrix = confusion_matrix(test_y, prediction)\n",
        "print(\"Confusion matrix:\\n\", conf_matrix)\n",
        "print(classification_report(test_y,prediction))"
      ]
    },
    {
      "cell_type": "markdown",
      "metadata": {
        "id": "t05ylFl8aTDq"
      },
      "source": [
        "## K Nearest Neighbors"
      ]
    },
    {
      "cell_type": "code",
      "execution_count": 30,
      "metadata": {
        "id": "BsktJ8-tchkU"
      },
      "outputs": [],
      "source": [
        "from sklearn.neighbors import KNeighborsClassifier"
      ]
    },
    {
      "cell_type": "code",
      "execution_count": 31,
      "metadata": {
        "id": "AXxY0-g_cvII",
        "colab": {
          "base_uri": "https://localhost:8080/"
        },
        "outputId": "ae397c26-b0b4-43b5-ceba-3302de39f98c"
      },
      "outputs": [
        {
          "output_type": "stream",
          "name": "stdout",
          "text": [
            "5\n"
          ]
        }
      ],
      "source": [
        "#finding the value of k\n",
        "k =round(len(train)**0.5/2)\n",
        "print(k)"
      ]
    },
    {
      "cell_type": "code",
      "source": [
        "KNN_model = KNeighborsClassifier(n_neighbors = k)\n",
        "KNN_model.fit(train_x,train_y)\n",
        "prediction = KNN_model.predict(test_x)\n",
        "print(\"Accuracy of K Nearest Neighbors model: \",metrics.accuracy_score(test_y,prediction))\n",
        "print(classification_report(test_y,prediction))"
      ],
      "metadata": {
        "colab": {
          "base_uri": "https://localhost:8080/"
        },
        "id": "yIoSF4El_Y9_",
        "outputId": "2d3e4991-5e47-4ae5-91be-2fe18d6408a5"
      },
      "execution_count": 32,
      "outputs": [
        {
          "output_type": "stream",
          "name": "stdout",
          "text": [
            "Accuracy of K Nearest Neighbors model:  0.9\n",
            "                 precision    recall  f1-score   support\n",
            "\n",
            "    Iris-setosa       1.00      1.00      1.00        10\n",
            "Iris-versicolor       0.92      0.85      0.88        13\n",
            " Iris-virginica       0.75      0.86      0.80         7\n",
            "\n",
            "       accuracy                           0.90        30\n",
            "      macro avg       0.89      0.90      0.89        30\n",
            "   weighted avg       0.91      0.90      0.90        30\n",
            "\n"
          ]
        }
      ]
    },
    {
      "cell_type": "markdown",
      "metadata": {
        "id": "lMmYakFXaW3J"
      },
      "source": [
        "## Support Vector Machine"
      ]
    },
    {
      "cell_type": "code",
      "source": [
        "from sklearn.svm import SVC"
      ],
      "metadata": {
        "id": "EoLSemYE7254"
      },
      "execution_count": 33,
      "outputs": []
    },
    {
      "cell_type": "code",
      "source": [
        "SVM_model = SVC()\n",
        "SVM_model.fit(train_x,train_y)\n",
        "prediction = SVM_model.predict(test_x)\n",
        "print(\"Accuracy of Support Vector Machine model: \",metrics.accuracy_score(test_y,prediction))\n",
        "print(classification_report(test_y,prediction))"
      ],
      "metadata": {
        "colab": {
          "base_uri": "https://localhost:8080/"
        },
        "id": "HS0Jfsed7-ZI",
        "outputId": "d4d9c56c-0f2a-4f00-a553-c4e5895c9774"
      },
      "execution_count": 34,
      "outputs": [
        {
          "output_type": "stream",
          "name": "stdout",
          "text": [
            "Accuracy of Support Vector Machine model:  0.9\n",
            "                 precision    recall  f1-score   support\n",
            "\n",
            "    Iris-setosa       1.00      1.00      1.00        10\n",
            "Iris-versicolor       0.92      0.85      0.88        13\n",
            " Iris-virginica       0.75      0.86      0.80         7\n",
            "\n",
            "       accuracy                           0.90        30\n",
            "      macro avg       0.89      0.90      0.89        30\n",
            "   weighted avg       0.91      0.90      0.90        30\n",
            "\n"
          ]
        }
      ]
    },
    {
      "cell_type": "markdown",
      "metadata": {
        "id": "TpRCPSq6aaZc"
      },
      "source": [
        "## Naive Bayes classifier"
      ]
    },
    {
      "cell_type": "code",
      "source": [
        "from sklearn.naive_bayes import GaussianNB"
      ],
      "metadata": {
        "id": "n5EqHb6LBei5"
      },
      "execution_count": 35,
      "outputs": []
    },
    {
      "cell_type": "code",
      "source": [
        "NB_model = GaussianNB()\n",
        "NB_model.fit(train_x,train_y)\n",
        "prediction = NB_model.predict(test_x)\n",
        "print(\"Accuracy of Naive Bayes model: \",metrics.accuracy_score(test_y,prediction))\n",
        "print(classification_report(test_y,prediction))"
      ],
      "metadata": {
        "colab": {
          "base_uri": "https://localhost:8080/"
        },
        "id": "dpS8CivIBrS2",
        "outputId": "3ccc0b16-6bdd-44ac-d281-78f9a9761190"
      },
      "execution_count": 36,
      "outputs": [
        {
          "output_type": "stream",
          "name": "stdout",
          "text": [
            "Accuracy of Naive Bayes model:  0.8666666666666667\n",
            "                 precision    recall  f1-score   support\n",
            "\n",
            "    Iris-setosa       1.00      1.00      1.00        10\n",
            "Iris-versicolor       0.91      0.77      0.83        13\n",
            " Iris-virginica       0.67      0.86      0.75         7\n",
            "\n",
            "       accuracy                           0.87        30\n",
            "      macro avg       0.86      0.88      0.86        30\n",
            "   weighted avg       0.88      0.87      0.87        30\n",
            "\n"
          ]
        }
      ]
    },
    {
      "cell_type": "markdown",
      "source": [
        "# Conclusion\n",
        "The Logistic Regression, KNN, and SVM model work better than Naive Bayes. Hence, we proceed with KNN for model training."
      ],
      "metadata": {
        "id": "yVtPdTdaDC81"
      }
    }
  ],
  "metadata": {
    "colab": {
      "provenance": [],
      "toc_visible": true
    },
    "kernelspec": {
      "display_name": "Python 3",
      "name": "python3"
    },
    "language_info": {
      "name": "python"
    }
  },
  "nbformat": 4,
  "nbformat_minor": 0
}